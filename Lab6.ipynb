{
 "cells": [
  {
   "cell_type": "code",
   "execution_count": 1,
   "id": "ad5c9de3",
   "metadata": {},
   "outputs": [
    {
     "name": "stdout",
     "output_type": "stream",
     "text": [
      "press your number: 2222222222\n",
      "Mohammed\n"
     ]
    }
   ],
   "source": [
    "NB={'1111111111':'Amal','2222222222':'Mohammed','3333333333':'Khadijah','4444444444':'Abdullah','5555555555':'Rawan','6666666666':'Faisal','7777777777':'Layla'}\n",
    "\n",
    "a=str(input('press your number: '))\n",
    "b=False\n",
    "for i in NB:\n",
    "    if a in i:\n",
    "        b=True\n",
    "        break\n",
    "\n",
    "if len(a) == 10:\n",
    "    if a.isnumeric() == True:\n",
    "        if b != True:\n",
    "            print('Sorry, the number is not found')\n",
    "        else:\n",
    "            print(NB[a])\n",
    "    else:\n",
    "        print('This is invalid number\".')\n",
    "else:\n",
    "    print('This is invalid number\"')\n",
    "\n",
    "\n"
   ]
  },
  {
   "cell_type": "code",
   "execution_count": 2,
   "id": "bef1265a",
   "metadata": {},
   "outputs": [
    {
     "name": "stdout",
     "output_type": "stream",
     "text": [
      "press your number: 0555555555\n",
      "Sorry, the number is not found\n"
     ]
    }
   ],
   "source": [
    "NB={'1111111111':'Amal','2222222222':'Mohammed','3333333333':'Khadijah','4444444444':'Abdullah','5555555555':'Rawan','6666666666':'Faisal','7777777777':'Layla'}\n",
    "\n",
    "a=str(input('press your number: '))\n",
    "b=False\n",
    "for i in NB:\n",
    "    if a in i:\n",
    "        b=True\n",
    "        break\n",
    "\n",
    "if len(a) == 10:\n",
    "    if a.isnumeric() == True:\n",
    "        if b != True:\n",
    "            print('Sorry, the number is not found')\n",
    "        else:\n",
    "            print(NB[a])\n",
    "    else:\n",
    "        print('This is invalid number\".')\n",
    "else:\n",
    "    print('This is invalid number\"')\n",
    "\n"
   ]
  },
  {
   "cell_type": "code",
   "execution_count": 3,
   "id": "fc4061f7",
   "metadata": {},
   "outputs": [
    {
     "name": "stdout",
     "output_type": "stream",
     "text": [
      "press your number: 123124\n",
      "This is invalid number\"\n"
     ]
    }
   ],
   "source": [
    "NB={'1111111111':'Amal','2222222222':'Mohammed','3333333333':'Khadijah','4444444444':'Abdullah','5555555555':'Rawan','6666666666':'Faisal','7777777777':'Layla'}\n",
    "\n",
    "a=str(input('press your number: '))\n",
    "b=False\n",
    "for i in NB:\n",
    "    if a in i:\n",
    "        b=True\n",
    "        break\n",
    "\n",
    "if len(a) == 10:\n",
    "    if a.isnumeric() == True:\n",
    "        if b != True:\n",
    "            print('Sorry, the number is not found')\n",
    "        else:\n",
    "            print(NB[a])\n",
    "    else:\n",
    "        print('This is invalid number\".')\n",
    "else:\n",
    "    print('This is invalid number\"')\n"
   ]
  },
  {
   "cell_type": "code",
   "execution_count": 4,
   "id": "e7b22f40",
   "metadata": {},
   "outputs": [
    {
     "name": "stdout",
     "output_type": "stream",
     "text": [
      "press your number: a123456789\n",
      "This is invalid number\".\n"
     ]
    }
   ],
   "source": [
    "NB={'1111111111':'Amal','2222222222':'Mohammed','3333333333':'Khadijah','4444444444':'Abdullah','5555555555':'Rawan','6666666666':'Faisal','7777777777':'Layla'}\n",
    "\n",
    "a=str(input('press your number: '))\n",
    "b=False\n",
    "for i in NB:\n",
    "    if a in i:\n",
    "        b=True\n",
    "        break\n",
    "\n",
    "if len(a) == 10:\n",
    "    if a.isnumeric() == True:\n",
    "        if b != True:\n",
    "            print('Sorry, the number is not found')\n",
    "        else:\n",
    "            print(NB[a])\n",
    "    else:\n",
    "        print('This is invalid number\".')\n",
    "else:\n",
    "    print('This is invalid number\"')"
   ]
  },
  {
   "cell_type": "code",
   "execution_count": null,
   "id": "2c2b825c",
   "metadata": {},
   "outputs": [],
   "source": []
  }
 ],
 "metadata": {
  "kernelspec": {
   "display_name": "Python 3 (ipykernel)",
   "language": "python",
   "name": "python3"
  },
  "language_info": {
   "codemirror_mode": {
    "name": "ipython",
    "version": 3
   },
   "file_extension": ".py",
   "mimetype": "text/x-python",
   "name": "python",
   "nbconvert_exporter": "python",
   "pygments_lexer": "ipython3",
   "version": "3.9.13"
  }
 },
 "nbformat": 4,
 "nbformat_minor": 5
}
